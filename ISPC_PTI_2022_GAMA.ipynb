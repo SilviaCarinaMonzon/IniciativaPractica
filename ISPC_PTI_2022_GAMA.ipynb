{
  "nbformat": 4,
  "nbformat_minor": 0,
  "metadata": {
    "colab": {
      "provenance": [],
      "collapsed_sections": [],
      "include_colab_link": true
    },
    "kernelspec": {
      "name": "python3",
      "display_name": "Python 3"
    },
    "language_info": {
      "name": "python"
    }
  },
  "cells": [
    {
      "cell_type": "markdown",
      "metadata": {
        "id": "view-in-github",
        "colab_type": "text"
      },
      "source": [
        "<a href=\"https://colab.research.google.com/github/SilviaCarinaMonzon/IniciativaPractica/blob/main/ISPC_PTI_2022_GAMA.ipynb\" target=\"_parent\"><img src=\"https://colab.research.google.com/assets/colab-badge.svg\" alt=\"Open In Colab\"/></a>"
      ]
    },
    {
      "cell_type": "code",
      "execution_count": null,
      "metadata": {
        "colab": {
          "base_uri": "https://localhost:8080/",
          "height": 852
        },
        "id": "HZuTaJmSpqef",
        "outputId": "af44cb1b-5101-4bea-850d-1c7c276d83e8"
      },
      "outputs": [
        {
          "output_type": "stream",
          "name": "stdout",
          "text": [
            "PROC1: [<span class=\"main-name-in-row\">Francesco Bagnaia</span>, <span class=\"main-name-in-row\">Fabio Quartararo</span>, <span class=\"main-name-in-row\">Aleix Espargaró</span>, <span class=\"main-name-in-row\">Enea Bastianini</span>, <span class=\"main-name-in-row\">Jack Miller</span>, <span class=\"main-name-in-row\">Brad Binder</span>, <span class=\"main-name-in-row\">Johann Zarco</span>, <span class=\"main-name-in-row\">Alex Rins</span>, <span class=\"main-name-in-row\">Miguel Oliveira</span>, <span class=\"main-name-in-row\">Jorge Martin</span>, <span class=\"main-name-in-row\">Maverick Viñales</span>, <span class=\"main-name-in-row\">Marc Márquez</span>, <span class=\"main-name-in-row\">Luca Marini</span>, <span class=\"main-name-in-row\">Marco Bezzecchi</span>, <span class=\"main-name-in-row\">Joan Mir Mayrata</span>, <span class=\"main-name-in-row\">Pol Espargaró</span>, <span class=\"main-name-in-row\">Álex Márquez</span>, <span class=\"main-name-in-row\">Takaaki Nakagami</span>, <span class=\"main-name-in-row\">Franco Morbidelli</span>, <span class=\"main-name-in-row\">Fabio Di Giannantonio</span>, <span class=\"main-name-in-row\">Andrea Dovizioso</span>, <span class=\"main-name-in-row\">Darryn Binder</span>, <span class=\"main-name-in-row\">Remy Gardner</span>, <span class=\"main-name-in-row\">Cal Crutchlow</span>, <span class=\"main-name-in-row\">Raúl Fernández</span>, <span class=\"main-name-in-row\">Stefan Bradl</span>, <span class=\"main-name-in-row\">Michele Pirro</span>, <span class=\"main-name-in-row\">Lorenzo Savadori</span>, <span class=\"main-name-in-row\">Tetsuta Nagashima</span>, <span class=\"main-name-in-row\">Danilo Petrucci</span>, <span class=\"main-name-in-row\">Kazuki Watanabe</span>, <span class=\"main-name-in-row\">Takuya Tsuda</span>]\n",
            "['Francesco Bagnaia', 'Fabio Quartararo', 'Aleix Espargaró', 'Enea Bastianini', 'Jack Miller', 'Brad Binder', 'Johann Zarco', 'Alex Rins', 'Miguel Oliveira', 'Jorge Martin', 'Maverick Viñales', 'Marc Márquez', 'Luca Marini', 'Marco Bezzecchi', 'Joan Mir Mayrata', 'Pol Espargaró', 'Álex Márquez', 'Takaaki Nakagami', 'Franco Morbidelli', 'Fabio Di Giannantonio', 'Andrea Dovizioso', 'Darryn Binder', 'Remy Gardner', 'Cal Crutchlow', 'Raúl Fernández', 'Stefan Bradl', 'Michele Pirro', 'Lorenzo Savadori', 'Tetsuta Nagashima', 'Danilo Petrucci', 'Kazuki Watanabe', 'Takuya Tsuda'] 32\n",
            "[<td class=\"destacado\">258</td>, <td class=\"destacado\">235</td>, <td class=\"destacado\">212</td>, <td class=\"destacado\">211</td>, <td class=\"destacado\">189</td>, <td class=\"destacado\">168</td>, <td class=\"destacado\">166</td>, <td class=\"destacado\">148</td>, <td class=\"destacado\">138</td>, <td class=\"destacado\">136</td>, <td class=\"destacado\">122</td>, <td class=\"destacado\">113</td>, <td class=\"destacado\">111</td>, <td class=\"destacado\">106</td>, <td class=\"destacado\">77</td>, <td class=\"destacado\">56</td>, <td class=\"destacado\">50</td>, <td class=\"destacado\">46</td>, <td class=\"destacado\">36</td>, <td class=\"destacado\">23</td>, <td class=\"destacado\">15</td>, <td class=\"destacado\">12</td>, <td class=\"destacado\">10</td>, <td class=\"destacado\">10</td>, <td class=\"destacado\">10</td>, <td class=\"destacado\">2</td>, <td class=\"destacado\">0</td>, <td class=\"destacado\">0</td>, <td class=\"destacado\">0</td>, <td class=\"destacado\">0</td>, <td class=\"destacado\">0</td>, <td class=\"destacado\">0</td>]\n",
            "['258', '235', '212', '211', '189', '168', '166', '148', '138', '136', '122', '113', '111', '106', '77', '56', '50', '46', '36', '23', '15', '12', '10', '10', '10', '2', '0', '0', '0', '0', '0', '0'] 32\n",
            "                  PILOTOS PUNTOS\n",
            "1       Francesco Bagnaia    258\n",
            "2        Fabio Quartararo    235\n",
            "3         Aleix Espargaró    212\n",
            "4         Enea Bastianini    211\n",
            "5             Jack Miller    189\n",
            "6             Brad Binder    168\n",
            "7            Johann Zarco    166\n",
            "8               Alex Rins    148\n",
            "9         Miguel Oliveira    138\n",
            "10           Jorge Martin    136\n",
            "11       Maverick Viñales    122\n",
            "12           Marc Márquez    113\n",
            "13            Luca Marini    111\n",
            "14        Marco Bezzecchi    106\n",
            "15       Joan Mir Mayrata     77\n",
            "16          Pol Espargaró     56\n",
            "17           Álex Márquez     50\n",
            "18       Takaaki Nakagami     46\n",
            "19      Franco Morbidelli     36\n",
            "20  Fabio Di Giannantonio     23\n",
            "21       Andrea Dovizioso     15\n",
            "22          Darryn Binder     12\n",
            "23           Remy Gardner     10\n",
            "24          Cal Crutchlow     10\n",
            "25         Raúl Fernández     10\n",
            "26           Stefan Bradl      2\n",
            "27          Michele Pirro      0\n",
            "28       Lorenzo Savadori      0\n",
            "29      Tetsuta Nagashima      0\n",
            "30        Danilo Petrucci      0\n",
            "31        Kazuki Watanabe      0\n",
            "32           Takuya Tsuda      0\n",
            "\n",
            " -----------------------  Escuderias ---------------------------\n",
            "\n",
            "  ESCUDERIAS PUNTOS\n",
            "1     Ducati    432\n",
            "2    Aprilia    248\n",
            "3     Yamaha    243\n",
            "4        Ktm    220\n",
            "5     Suzuki    174\n",
            "6      Honda    153\n"
          ]
        },
        {
          "output_type": "display_data",
          "data": {
            "text/plain": [
              "<IPython.core.display.Javascript object>"
            ],
            "application/javascript": [
              "\n",
              "    async function download(id, filename, size) {\n",
              "      if (!google.colab.kernel.accessAllowed) {\n",
              "        return;\n",
              "      }\n",
              "      const div = document.createElement('div');\n",
              "      const label = document.createElement('label');\n",
              "      label.textContent = `Downloading \"${filename}\": `;\n",
              "      div.appendChild(label);\n",
              "      const progress = document.createElement('progress');\n",
              "      progress.max = size;\n",
              "      div.appendChild(progress);\n",
              "      document.body.appendChild(div);\n",
              "\n",
              "      const buffers = [];\n",
              "      let downloaded = 0;\n",
              "\n",
              "      const channel = await google.colab.kernel.comms.open(id);\n",
              "      // Send a message to notify the kernel that we're ready.\n",
              "      channel.send({})\n",
              "\n",
              "      for await (const message of channel.messages) {\n",
              "        // Send a message to notify the kernel that we're ready.\n",
              "        channel.send({})\n",
              "        if (message.buffers) {\n",
              "          for (const buffer of message.buffers) {\n",
              "            buffers.push(buffer);\n",
              "            downloaded += buffer.byteLength;\n",
              "            progress.value = downloaded;\n",
              "          }\n",
              "        }\n",
              "      }\n",
              "      const blob = new Blob(buffers, {type: 'application/binary'});\n",
              "      const a = document.createElement('a');\n",
              "      a.href = window.URL.createObjectURL(blob);\n",
              "      a.download = filename;\n",
              "      div.appendChild(a);\n",
              "      a.click();\n",
              "      div.remove();\n",
              "    }\n",
              "  "
            ]
          },
          "metadata": {}
        },
        {
          "output_type": "display_data",
          "data": {
            "text/plain": [
              "<IPython.core.display.Javascript object>"
            ],
            "application/javascript": [
              "download(\"download_1f3bb314-2063-4f0e-b276-0c6c9690175d\", \"CLASIFICACI\\u00d3N_DE_PILOTOS.csv\", 608)"
            ]
          },
          "metadata": {}
        },
        {
          "output_type": "display_data",
          "data": {
            "text/plain": [
              "<IPython.core.display.Javascript object>"
            ],
            "application/javascript": [
              "\n",
              "    async function download(id, filename, size) {\n",
              "      if (!google.colab.kernel.accessAllowed) {\n",
              "        return;\n",
              "      }\n",
              "      const div = document.createElement('div');\n",
              "      const label = document.createElement('label');\n",
              "      label.textContent = `Downloading \"${filename}\": `;\n",
              "      div.appendChild(label);\n",
              "      const progress = document.createElement('progress');\n",
              "      progress.max = size;\n",
              "      div.appendChild(progress);\n",
              "      document.body.appendChild(div);\n",
              "\n",
              "      const buffers = [];\n",
              "      let downloaded = 0;\n",
              "\n",
              "      const channel = await google.colab.kernel.comms.open(id);\n",
              "      // Send a message to notify the kernel that we're ready.\n",
              "      channel.send({})\n",
              "\n",
              "      for await (const message of channel.messages) {\n",
              "        // Send a message to notify the kernel that we're ready.\n",
              "        channel.send({})\n",
              "        if (message.buffers) {\n",
              "          for (const buffer of message.buffers) {\n",
              "            buffers.push(buffer);\n",
              "            downloaded += buffer.byteLength;\n",
              "            progress.value = downloaded;\n",
              "          }\n",
              "        }\n",
              "      }\n",
              "      const blob = new Blob(buffers, {type: 'application/binary'});\n",
              "      const a = document.createElement('a');\n",
              "      a.href = window.URL.createObjectURL(blob);\n",
              "      a.download = filename;\n",
              "      div.appendChild(a);\n",
              "      a.click();\n",
              "      div.remove();\n",
              "    }\n",
              "  "
            ]
          },
          "metadata": {}
        },
        {
          "output_type": "display_data",
          "data": {
            "text/plain": [
              "<IPython.core.display.Javascript object>"
            ],
            "application/javascript": [
              "download(\"download_a6fcddb1-4175-4d67-bf3a-357914d7ea51\", \"ESCUDERIA.csv\", 81)"
            ]
          },
          "metadata": {}
        }
      ],
      "source": [
        "#DESCARGO LAS LIBRERÍAS QUE VOY A USAR\n",
        "from cgitb import html\n",
        "from bs4 import BeautifulSoup\n",
        "import requests\n",
        "import pandas as pd\n",
        "import matplotlib.pyplot as plt \n",
        "\n",
        "#CARGO LA PÁGINA QUE VOY A USAR Y FORMO LA SOPA \n",
        "url = 'https://resultados.as.com/resultados/motor/motogp/clasificacion/?omnil=mpal'\n",
        "page = requests.get(url)\n",
        "soup = BeautifulSoup(page.content, 'html.parser')\n",
        "\n",
        "#ELIJO TRABAJAR CON LOS PILOTOS Y DESCARGO EL HTML\n",
        "tablaPilotos = soup.find(\"div\", {\"id\": \"pilotos\"})\n",
        "pil = tablaPilotos.find_all('span', class_= 'main-name-in-row')\n",
        "\n",
        "#HAGO PRINT PARA CONTROL DE PROCESO 1\n",
        "print(\"PROC1:\",pil)\n",
        "\n",
        "#SELECCIONO TODOS LOS PILOTOS EN UNA LISTA\n",
        "pilotos = list()\n",
        "\n",
        "count = 0\n",
        "for i in pil:\n",
        "    if count < 32:\n",
        "        pilotos.append(i.text)\n",
        "    else:\n",
        "        break\n",
        "    count += 1\n",
        "\n",
        "#HAGO PRINT PARA CONTROL DE PROCESO 2\n",
        "print(pilotos, len(pilotos))\n",
        "\n",
        "#ELIJO TRABAJAR CON LOS PUNTOS Y DESCARGO EL HTML\n",
        "punt = tablaPilotos.find_all('td', class_= 'destacado')\n",
        "\n",
        "#HAGO PRINT PARA CONTROL DE PROCESO 3\n",
        "print(punt)\n",
        "\n",
        "#SELECCIONO LOS PUNTOS DE TODOS LOS PILOTOS EN UNA LISTA\n",
        "puntos = list()\n",
        "\n",
        "count = 0\n",
        "for i in punt:\n",
        "    if count < 32:\n",
        "        puntos.append(i.text)\n",
        "    else:\n",
        "        break\n",
        "    count += 1\n",
        "\n",
        "#HAGO PRINT PARA CONTROL DE PROCESO 4\n",
        "print(puntos, len(puntos))\n",
        "\n",
        "#ELABORO UN DATAFRAME CON PANDAS\n",
        "dfPilotos = pd.DataFrame({'PILOTOS': pilotos, 'PUNTOS': puntos}, index=list (range(1,33)))\n",
        "\n",
        "#HAGO PRINT PARA CONTROL DE PROCESO 5\n",
        "print (dfPilotos)\n",
        "\n",
        "\n",
        "##############################################################################################\n",
        "#####################################    ESCUDERIAS     ######################################\n",
        "print(\"\\n -----------------------  Escuderias ---------------------------\\n\")\n",
        "##############################################################################################\n",
        "\n",
        "# TOMANDO DATOS DESDE LA PAGINA\n",
        "tablaEscuderias = soup.find(\"div\", {\"id\": \"escuderias\"})\n",
        "esc = tablaEscuderias.find_all(\"span\",class_= 'main-name-in-row')\n",
        "escPts = tablaEscuderias.find_all(\"td\",class_='destacado')\n",
        "\n",
        "# INSERTANDO DATOS EN LISTAS\n",
        "escuderias = list()\n",
        "puntosEscuderias = list()\n",
        "\n",
        "for i in esc:\n",
        "  escuderias.append(i.text)\n",
        "\n",
        "for i in escPts:\n",
        "  puntosEscuderias.append(i.text)\n",
        "\n",
        "# DATAFRAME CON LOS DATOS\n",
        "\n",
        "dfEscuderia = pd.DataFrame({'ESCUDERIAS': escuderias, 'PUNTOS': puntosEscuderias}, index=list (range(1,7)))\n",
        "print(dfEscuderia)\n",
        "\n",
        "\n",
        "\n",
        "\n",
        "\n",
        "#VOY A SELECCIONAR EL PAÍS DE LOS PILOTOS Y DESCARGAR DEL HTML\n",
        "tablaOrigenPilotos = soup.find(\"div\", {\"id\": \"pilotos\"})\n",
        "paisPil = tablaOrigenPilotos.find_all('span', class_= 'main-name-in-row')\n",
        "\n",
        "#HAGO PRINT PARA CONTROL DE PROCESO 1\n",
        "print(\"PROC1:\",paisPil)\n",
        "\n",
        "#SELECCIONO TODOS LOS PILOTOS EN UNA LISTA\n",
        "paisPilotos = list()\n",
        "\n",
        "count = 0\n",
        "for i in pil:\n",
        "    if count < 32:\n",
        "        paisPilotos.append(i.text)\n",
        "    else:\n",
        "        break\n",
        "    count += 1\n",
        "\n",
        "#HAGO PRINT PARA CONTROL DE PROCESO 2\n",
        "print(paisPilotos, len(paisPilotos))\n",
        "\n",
        "\n",
        "\n",
        "\n",
        "\n",
        "\n",
        "\n",
        "#GUARDO LOS DATOS EN UN FICHERO DE TXT\n",
        "dfPilotos.to_csv('CLASIFICACIÓN_DE_PILOTOS.csv', index=False)\n",
        "dfEscuderia.to_csv('ESCUDERIA.csv', index=False)\n",
        "\n",
        "from google.colab import files \n",
        "files.download ('CLASIFICACIÓN_DE_PILOTOS.csv')\n",
        "files.download ('ESCUDERIA.csv')\n",
        "\n",
        "#SE DESCARGÓ EL ARCHIVO CON LOS DATOS EXTRAÍDOS\n",
        "#SE PODRÁ ABRIR CON BLOCK DE NOTAS O PASAR A EXCEL O SIMILAR\n",
        "\n",
        "\n",
        "\n",
        "\n"
      ]
    },
    {
      "cell_type": "code",
      "source": [],
      "metadata": {
        "id": "kGugPYsigwzL"
      },
      "execution_count": null,
      "outputs": []
    },
    {
      "cell_type": "code",
      "source": [],
      "metadata": {
        "id": "k75dsUBIgxPR"
      },
      "execution_count": null,
      "outputs": []
    },
    {
      "cell_type": "code",
      "source": [],
      "metadata": {
        "id": "48897pD35SZN"
      },
      "execution_count": null,
      "outputs": []
    }
  ]
}